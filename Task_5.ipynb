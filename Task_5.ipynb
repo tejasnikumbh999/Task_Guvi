{
  "nbformat": 4,
  "nbformat_minor": 0,
  "metadata": {
    "colab": {
      "name": "Task_5.ipynb",
      "provenance": [],
      "authorship_tag": "ABX9TyOrNOB6+EqTLULD+njHoSsh",
      "include_colab_link": true
    },
    "kernelspec": {
      "name": "python3",
      "display_name": "Python 3"
    },
    "language_info": {
      "name": "python"
    }
  },
  "cells": [
    {
      "cell_type": "markdown",
      "metadata": {
        "id": "view-in-github",
        "colab_type": "text"
      },
      "source": [
        "<a href=\"https://colab.research.google.com/github/tejasnikumbh999/Task_Guvi/blob/main/Task_5.ipynb\" target=\"_parent\"><img src=\"https://colab.research.google.com/assets/colab-badge.svg\" alt=\"Open In Colab\"/></a>"
      ]
    },
    {
      "cell_type": "code",
      "execution_count": 145,
      "metadata": {
        "id": "NrGkFKXm7e2w"
      },
      "outputs": [],
      "source": [
        "import pandas as pd\n",
        "import numpy as np\n",
        "import matplotlib.pyplot as plt\n",
        "import plotly.express as px\n",
        "import seaborn as sns"
      ]
    },
    {
      "cell_type": "code",
      "source": [
        "f1=pd.read_csv('https://raw.githubusercontent.com/tejasnikumbh999/Task_Guvi/main/takehome_user_engagement.csv')"
      ],
      "metadata": {
        "id": "fL0ubdiv76be"
      },
      "execution_count": 146,
      "outputs": []
    },
    {
      "cell_type": "code",
      "source": [
        "f2=pd.read_csv('https://raw.githubusercontent.com/tejasnikumbh999/Task_Guvi/main/takehome_users.csv',encoding='latin-1')"
      ],
      "metadata": {
        "id": "PV9S3zRA9ds9"
      },
      "execution_count": 147,
      "outputs": []
    },
    {
      "cell_type": "code",
      "source": [
        "f1.columns"
      ],
      "metadata": {
        "id": "KiUNb8O59bxq"
      },
      "execution_count": null,
      "outputs": []
    },
    {
      "cell_type": "code",
      "source": [
        "f2.columns"
      ],
      "metadata": {
        "id": "GWlqfdrYFaoP"
      },
      "execution_count": null,
      "outputs": []
    },
    {
      "cell_type": "markdown",
      "source": [
        "- Rename object_id by user_id to merge the two files"
      ],
      "metadata": {
        "id": "oAWg60CVFe_3"
      }
    },
    {
      "cell_type": "code",
      "source": [
        "f2 = f2.rename(columns = {'object_id': 'user_id'}, inplace = False)"
      ],
      "metadata": {
        "id": "AB9SxmipEI7e"
      },
      "execution_count": 150,
      "outputs": []
    },
    {
      "cell_type": "code",
      "source": [
        "#merge the files\n",
        "\n",
        "takehome = pd.merge(f1, f2, on='user_id')"
      ],
      "metadata": {
        "id": "BUlEA9F0CO5L"
      },
      "execution_count": 151,
      "outputs": []
    },
    {
      "cell_type": "code",
      "source": [
        "takehome.head()"
      ],
      "metadata": {
        "id": "WYUmwYK1Eirm"
      },
      "execution_count": null,
      "outputs": []
    },
    {
      "cell_type": "markdown",
      "source": [
        "#EDA"
      ],
      "metadata": {
        "id": "-8vXemBnF66_"
      }
    },
    {
      "cell_type": "code",
      "source": [
        "#check null values\n",
        "\n",
        "takehome.isnull().sum()"
      ],
      "metadata": {
        "id": "NxUoWm-BDV9g"
      },
      "execution_count": null,
      "outputs": []
    },
    {
      "cell_type": "markdown",
      "source": [
        "- The column invited_by_user_id has null values, thus delete the column."
      ],
      "metadata": {
        "id": "N2W3hQFODelg"
      }
    },
    {
      "cell_type": "code",
      "source": [
        "takehome.drop(columns='invited_by_user_id',inplace=True)"
      ],
      "metadata": {
        "id": "xiuJGoJgDnjh"
      },
      "execution_count": 62,
      "outputs": []
    },
    {
      "cell_type": "code",
      "source": [
        "takehome.dtypes"
      ],
      "metadata": {
        "id": "fLgVFNxyEkHJ"
      },
      "execution_count": null,
      "outputs": []
    },
    {
      "cell_type": "code",
      "source": [
        "#convert data types\n",
        "\n",
        "takehome['creation_time']=pd.to_datetime(takehome['creation_time'])\n",
        "takehome['time_stamp']=pd.to_datetime(takehome['time_stamp'])\n",
        "takehome['last_session_creation_time']= pd.to_datetime(takehome['last_session_creation_time'],unit='s')"
      ],
      "metadata": {
        "id": "n5KxuJ4-E_uy"
      },
      "execution_count": 154,
      "outputs": []
    },
    {
      "cell_type": "code",
      "source": [
        "#sort data weekly, monthly and yearly\n",
        "\n",
        "takehome['Week_number'] = takehome['last_session_creation_time'].dt.week\n",
        "takehome['week'] = takehome['last_session_creation_time'].dt.year.astype(str) + takehome['last_session_creation_time'].dt.week.astype(str)\n",
        "takehome['year']=takehome['last_session_creation_time'].dt.year\n",
        "takehome['month']=takehome['last_session_creation_time'].dt.month"
      ],
      "metadata": {
        "id": "SWHXnMldGaWE"
      },
      "execution_count": null,
      "outputs": []
    },
    {
      "cell_type": "code",
      "source": [
        "takehome.head()"
      ],
      "metadata": {
        "id": "fP185ygeHasU"
      },
      "execution_count": null,
      "outputs": []
    },
    {
      "cell_type": "markdown",
      "source": [
        "- Week_number assigns the week for a particular year and may be same for same day on next year.\n",
        "- week represents the cumulative week and is unique for each year."
      ],
      "metadata": {
        "id": "JWuSgkOejYW9"
      }
    },
    {
      "cell_type": "code",
      "source": [
        "#Group the data by week\n",
        "\n",
        "Group = takehome.groupby(['user_id','org_id','creation_source','opted_in_to_mailing_list','enabled_for_marketing_drip','Week_number','week','month','year'])['visited'].count().reset_index()"
      ],
      "metadata": {
        "id": "t5AAC60O_b0T"
      },
      "execution_count": 203,
      "outputs": []
    },
    {
      "cell_type": "code",
      "source": [
        "#create the dataset of the users wher weekly visits are greater than 3\n",
        "\n",
        "Group['adopted_user'] = Group['visited'].apply(lambda x: 'yes' if x >= 3 else 'no')"
      ],
      "metadata": {
        "id": "U8_C3-86EU-X"
      },
      "execution_count": 204,
      "outputs": []
    },
    {
      "cell_type": "code",
      "source": [
        "Group"
      ],
      "metadata": {
        "id": "y3DVmT89EXhn"
      },
      "execution_count": null,
      "outputs": []
    },
    {
      "cell_type": "markdown",
      "source": [
        "#Data Visualization"
      ],
      "metadata": {
        "id": "kjqprb7HFxDw"
      }
    },
    {
      "cell_type": "code",
      "source": [
        "fig = px.pie(Group, names='adopted_user', title='Adopted Users')\n",
        "fig.show()"
      ],
      "metadata": {
        "id": "7tUlD1WXFwp-"
      },
      "execution_count": null,
      "outputs": []
    },
    {
      "cell_type": "markdown",
      "source": [
        "- Around 25% of the users are abopted i.e they are used to login more than three time in a week."
      ],
      "metadata": {
        "id": "ShT7ptHrHGOn"
      }
    },
    {
      "cell_type": "markdown",
      "source": [
        "#Machine Learning"
      ],
      "metadata": {
        "id": "BS9QRwxIIBAi"
      }
    },
    {
      "cell_type": "markdown",
      "source": [
        "- Lable encoding"
      ],
      "metadata": {
        "id": "xEJnHJ04IkC6"
      }
    },
    {
      "cell_type": "code",
      "source": [
        "from sklearn.preprocessing import LabelEncoder\n",
        "le=LabelEncoder()"
      ],
      "metadata": {
        "id": "Lm_NvDjaH6rJ"
      },
      "execution_count": 207,
      "outputs": []
    },
    {
      "cell_type": "code",
      "source": [
        "for column in Group.columns:\n",
        "  if Group[column].dtype == object:\n",
        "    Group[column] = le.fit_transform(Group[column])"
      ],
      "metadata": {
        "id": "xu4ox_2tIM4o"
      },
      "execution_count": 208,
      "outputs": []
    },
    {
      "cell_type": "code",
      "source": [
        "plt.figure(figsize=(20,5))\n",
        "sns.heatmap(Group.corr(),annot=True)"
      ],
      "metadata": {
        "id": "m9oeEnRvTUWM"
      },
      "execution_count": null,
      "outputs": []
    },
    {
      "cell_type": "code",
      "source": [
        "from sklearn.model_selection import train_test_split\n",
        "X=Group.drop(columns=['user_id','adopted_user','visited','year','Week_number'],axis=1)\n",
        "Y=Group['adopted_user']\n",
        "x_train,x_test,y_train,y_test=train_test_split(X,Y,test_size=0.3,random_state=60)"
      ],
      "metadata": {
        "id": "P8QeCwKDCc7M"
      },
      "execution_count": 277,
      "outputs": []
    },
    {
      "cell_type": "markdown",
      "source": [
        "- Random Forest"
      ],
      "metadata": {
        "id": "h2btWzs8CQ1U"
      }
    },
    {
      "cell_type": "code",
      "source": [
        "from sklearn.ensemble import RandomForestClassifier \n",
        "randomforest=RandomForestClassifier(max_depth=7,n_estimators=35,random_state=3)\n",
        "randomforest.fit(x_train,y_train)\n",
        "y_pred=randomforest.predict(x_test)\n",
        "score=randomforest.score(x_test,y_test)\n",
        "score*100"
      ],
      "metadata": {
        "colab": {
          "base_uri": "https://localhost:8080/"
        },
        "id": "cN5n9xm6CT7h",
        "outputId": "44157c1c-75bd-42cc-f1bc-898a4f5265bd"
      },
      "execution_count": 278,
      "outputs": [
        {
          "output_type": "execute_result",
          "data": {
            "text/plain": [
              "85.64412542500945"
            ]
          },
          "metadata": {},
          "execution_count": 278
        }
      ]
    },
    {
      "cell_type": "markdown",
      "source": [
        "- XGBoost Algorithm"
      ],
      "metadata": {
        "id": "-lVOWJeCIn0q"
      }
    },
    {
      "cell_type": "code",
      "source": [
        "from xgboost import XGBClassifier\n",
        "xgb = XGBClassifier(max_depth=2,n_estimators=100)\n",
        "xgb.fit(x_train,y_train)\n",
        " \n",
        "xgb_score = xgb.score(x_test,y_test)*100\n",
        "print(\"XGBoost  Score is :\",xgb_score)"
      ],
      "metadata": {
        "colab": {
          "base_uri": "https://localhost:8080/"
        },
        "id": "nPQt9M_WI6If",
        "outputId": "a3be48bc-32c0-490f-acfe-176472869783"
      },
      "execution_count": 279,
      "outputs": [
        {
          "output_type": "stream",
          "name": "stdout",
          "text": [
            "XGBoost  Score is : 85.60634680770683\n"
          ]
        }
      ]
    },
    {
      "cell_type": "code",
      "source": [
        "#predict feature importance\n",
        "\n",
        "feature_scores = pd.Series(randomforest.feature_importances_,index=x_train.columns).sort_values(ascending=False)\n",
        "feature_scores = feature_scores*100\n",
        "feature_scores\n"
      ],
      "metadata": {
        "id": "BNvceHBEJqSJ"
      },
      "execution_count": null,
      "outputs": []
    },
    {
      "cell_type": "code",
      "source": [
        "#plot feature importance\n",
        "\n",
        "plt.figure(figsize=(12,12))\n",
        "sns.barplot(x=feature_scores,y=feature_scores.index)\n",
        "plt.show()"
      ],
      "metadata": {
        "id": "DhtlCfIOJtOs"
      },
      "execution_count": null,
      "outputs": []
    },
    {
      "cell_type": "markdown",
      "source": [
        "- Thus the feature importance is as listed:\n",
        "\n",
        "week >  month > org_id > creation_source > enabled_for_marketing_drip > opted_in_to_mailing_list\t"
      ],
      "metadata": {
        "id": "bA2ULKoyEHFM"
      }
    }
  ]
}