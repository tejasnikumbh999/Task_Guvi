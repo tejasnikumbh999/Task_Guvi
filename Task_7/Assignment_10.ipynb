{
  "nbformat": 4,
  "nbformat_minor": 0,
  "metadata": {
    "colab": {
      "name": "Assignment_10.ipynb",
      "provenance": [],
      "authorship_tag": "ABX9TyPtXm6u3JY0nd5DgnUH7J/S",
      "include_colab_link": true
    },
    "kernelspec": {
      "name": "python3",
      "display_name": "Python 3"
    },
    "language_info": {
      "name": "python"
    }
  },
  "cells": [
    {
      "cell_type": "markdown",
      "metadata": {
        "id": "view-in-github",
        "colab_type": "text"
      },
      "source": [
        "<a href=\"https://colab.research.google.com/github/tejasnikumbh999/Task_Guvi/blob/main/Task_7/Assignment_10.ipynb\" target=\"_parent\"><img src=\"https://colab.research.google.com/assets/colab-badge.svg\" alt=\"Open In Colab\"/></a>"
      ]
    },
    {
      "cell_type": "code",
      "execution_count": 29,
      "metadata": {
        "id": "1BInippcjajD"
      },
      "outputs": [],
      "source": [
        "import pandas as pd\n",
        "import numpy as np\n",
        "import seaborn as sns\n",
        "import matplotlib.pyplot as plt\n",
        "from sklearn.neighbors import KNeighborsClassifier \n",
        "from sklearn.metrics import accuracy_score \n",
        "from sklearn.metrics import classification_report"
      ]
    },
    {
      "cell_type": "code",
      "source": [
        "train = pd.read_csv(\"trainKNN.txt\" , header=None,\n",
        "                 names=[\"Id number\", \"RI\", \"Na\", \"Mg\", \"Al\", \"Si\",\"K\",\"Ca\",\"Ba\",'Fe','Type of glass'],index_col='Id number')\n",
        "\n",
        "test = pd.read_csv(\"testKNN.txt\" , header=None,\n",
        "                 names=[\"Id number\", \"RI\", \"Na\", \"Mg\", \"Al\", \"Si\",\"K\",\"Ca\",\"Ba\",'Fe','Type of glass'],index_col='Id number')"
      ],
      "metadata": {
        "id": "uSk-MDEhkBny"
      },
      "execution_count": 2,
      "outputs": []
    },
    {
      "cell_type": "code",
      "source": [
        "train.isnull().sum()"
      ],
      "metadata": {
        "id": "_fS84zpykUWb"
      },
      "execution_count": null,
      "outputs": []
    },
    {
      "cell_type": "code",
      "source": [
        "test.isnull().sum()"
      ],
      "metadata": {
        "id": "a3mxozdYkX9h"
      },
      "execution_count": null,
      "outputs": []
    },
    {
      "cell_type": "code",
      "source": [
        "x=train.drop(columns='Type of glass')"
      ],
      "metadata": {
        "id": "sQuTftebkh8n"
      },
      "execution_count": 6,
      "outputs": []
    },
    {
      "cell_type": "code",
      "source": [
        "for col in x:\n",
        "    skew = train[col].skew()\n",
        "    sns.distplot(train[col],kde=False,label='Skew = %.2f' %(skew),bins=50)\n",
        "    plt.legend(loc='best')\n",
        "    plt.show()"
      ],
      "metadata": {
        "id": "zXeNjmskkaeq"
      },
      "execution_count": null,
      "outputs": []
    },
    {
      "cell_type": "markdown",
      "source": [
        "- Train Model"
      ],
      "metadata": {
        "id": "V-2sIXbCl_XW"
      }
    },
    {
      "cell_type": "code",
      "source": [
        "x_train = train.drop(columns=['Type of glass',],axis=1)\n",
        "\n",
        "x_test = test.drop(columns=['Type of glass'],axis=1)\n",
        "\n",
        "\n",
        "y_train = train['Type of glass']\n",
        "\n",
        "y_test = test['Type of glass']"
      ],
      "metadata": {
        "id": "Jvzm_7L5l64o"
      },
      "execution_count": 17,
      "outputs": []
    },
    {
      "cell_type": "code",
      "source": [
        "from sklearn.preprocessing import StandardScaler\n",
        "\n",
        "scaler = StandardScaler()\n",
        "\n",
        "x_train = scaler.fit_transform(x_train)\n",
        "x_test = scaler.transform(x_test)"
      ],
      "metadata": {
        "id": "CKYqQRe9mBNU"
      },
      "execution_count": 19,
      "outputs": []
    },
    {
      "cell_type": "markdown",
      "source": [
        "#Euclidean Metric"
      ],
      "metadata": {
        "id": "iABaGkZWmgmO"
      }
    },
    {
      "cell_type": "code",
      "source": [
        "\n",
        "classifier= KNeighborsClassifier(n_neighbors=5,metric='euclidean', p=2 )  \n",
        "classifier.fit(x_train, y_train)  \n",
        "KNeighborsClassifier(metric='euclidean')\n",
        "euclid_pred = classifier.predict(x_test)\n",
        "euclid_score = accuracy_score(y_test,euclid_pred)\n",
        "euclid_score = euclid_score*100\n",
        "\n",
        "print(\"Accuracy Score of Euclidean Metric : \\t \",euclid_score)"
      ],
      "metadata": {
        "id": "5N91Y_oCmEXy"
      },
      "execution_count": null,
      "outputs": []
    },
    {
      "cell_type": "code",
      "source": [
        "\n",
        "classifier.score(x_test,y_test)*100"
      ],
      "metadata": {
        "id": "zD0lQr_7m8Xt"
      },
      "execution_count": null,
      "outputs": []
    },
    {
      "cell_type": "markdown",
      "source": [
        "#Manhatten Matrix"
      ],
      "metadata": {
        "id": "k7aMNYr4nRKk"
      }
    },
    {
      "cell_type": "code",
      "source": [
        "classifier= KNeighborsClassifier(metric='manhattan')  \n",
        "classifier.fit(x_train, y_train)  "
      ],
      "metadata": {
        "colab": {
          "base_uri": "https://localhost:8080/"
        },
        "id": "L4SDrAcQm_g7",
        "outputId": "83aa5426-a77e-4538-bea0-4bf49eb9bda3"
      },
      "execution_count": 26,
      "outputs": [
        {
          "output_type": "execute_result",
          "data": {
            "text/plain": [
              "KNeighborsClassifier(metric='manhattan')"
            ]
          },
          "metadata": {},
          "execution_count": 26
        }
      ]
    },
    {
      "cell_type": "code",
      "source": [
        "manhat_pred = classifier.predict(x_test)\n",
        "manhat_score= accuracy_score(y_test,manhat_pred)*100\n",
        "print(\"Accuracy score of Manhattan metric : \\t \",manhat_score)"
      ],
      "metadata": {
        "id": "8EzoqtBUnYjr"
      },
      "execution_count": null,
      "outputs": []
    },
    {
      "cell_type": "code",
      "source": [
        "print(classification_report(y_test,manhat_pred))"
      ],
      "metadata": {
        "id": "lf6i-4i0naB5"
      },
      "execution_count": null,
      "outputs": []
    },
    {
      "cell_type": "code",
      "source": [
        ""
      ],
      "metadata": {
        "id": "6ylXMDolni73"
      },
      "execution_count": null,
      "outputs": []
    }
  ]
}