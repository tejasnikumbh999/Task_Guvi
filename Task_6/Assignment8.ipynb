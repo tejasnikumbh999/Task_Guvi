{
  "cells": [
    {
      "cell_type": "markdown",
      "metadata": {
        "id": "view-in-github",
        "colab_type": "text"
      },
      "source": [
        "<a href=\"https://colab.research.google.com/github/tejasnikumbh999/Task_Guvi/blob/main/Task_6/Assignment8.ipynb\" target=\"_parent\"><img src=\"https://colab.research.google.com/assets/colab-badge.svg\" alt=\"Open In Colab\"/></a>"
      ]
    },
    {
      "cell_type": "markdown",
      "metadata": {
        "id": "Sqxvc-ZhQjAQ"
      },
      "source": [
        "# Assignment8"
      ]
    },
    {
      "cell_type": "code",
      "execution_count": 1,
      "metadata": {
        "collapsed": true,
        "id": "g86M2RuDQjAg"
      },
      "outputs": [],
      "source": [
        "import pandas as pd\n",
        "import matplotlib.pyplot as plt\n",
        "import numpy as np\n",
        "from sklearn.linear_model import LinearRegression"
      ]
    },
    {
      "cell_type": "markdown",
      "metadata": {
        "id": "ZVHeIuVmQjAn"
      },
      "source": [
        "# How Much is Your Car Worth?\n",
        "\n",
        "Data about the retail price of 2005 General Motors cars can be found in `car_data.csv`.\n",
        "\n",
        "The columns are:\n",
        "\n",
        "1. Price: suggested retail price of the used 2005 GM car in excellent condition.\n",
        "2. Mileage: number of miles the car has been driven\n",
        "3. Make: manufacturer of the car such as Saturn, Pontiac, and Chevrolet\n",
        "4. Model: specific models for each car manufacturer such as Ion, Vibe, Cavalier\n",
        "5. Trim (of car): specific type of car model such as SE Sedan 4D, Quad Coupe 2D          \n",
        "6. Type: body type such as sedan, coupe, etc.      \n",
        "7. Cylinder: number of cylinders in the engine        \n",
        "8. Liter: a more specific measure of engine size     \n",
        "9. Doors: number of doors           \n",
        "10. Cruise: indicator variable representing whether the car has cruise control (1 = cruise)\n",
        "11. Sound: indicator variable representing whether the car has upgraded speakers (1 = upgraded)\n",
        "12. Leather: indicator variable representing whether the car has leather seats (1 = leather)\n",
        "\n",
        "## Tasks, Part 1\n",
        "\n",
        "1. Find the linear regression equation for mileage vs price.\n",
        "2. Chart the original data and the equation on the chart.\n",
        "3. Find the equation's $R^2$ score (use the `.score` method) to determine whether the\n",
        "equation is a good fit for this data. (0.8 and greater is considered a strong correlation.)\n",
        "\n",
        "## Tasks, Part 2\n",
        "\n",
        "1. Use mileage, cylinders, liters, doors, cruise, sound, and leather to find the linear regression equation.\n",
        "2. Find the equation's $R^2$ score (use the `.score` method) to determine whether the\n",
        "equation is a good fit for this data. (0.8 and greater is considered a strong correlation.)\n",
        "3. Find the combination of the factors that is the best predictor for price.\n",
        "\n",
        "## Tasks, Hard Mode\n",
        "\n",
        "1. Research dummy variables in scikit-learn to see how to use the make, model, and body type.\n",
        "2. Find the best combination of factors to predict price."
      ]
    },
    {
      "cell_type": "code",
      "execution_count": 2,
      "metadata": {
        "id": "_kNneiO-QjAv"
      },
      "outputs": [],
      "source": [
        "df = pd.read_csv(\"https://raw.githubusercontent.com/tejasnikumbh999/Training-datasets/main/car_data.csv\")"
      ]
    },
    {
      "cell_type": "code",
      "source": [
        "df"
      ],
      "metadata": {
        "id": "i14cl4bPsBzD"
      },
      "execution_count": null,
      "outputs": []
    },
    {
      "cell_type": "code",
      "source": [
        "df.dtypes"
      ],
      "metadata": {
        "id": "N4sgKm3RwQq0"
      },
      "execution_count": null,
      "outputs": []
    },
    {
      "cell_type": "code",
      "source": [
        "df['Price']=df['Price']"
      ],
      "metadata": {
        "id": "P42l9fXOwUb8"
      },
      "execution_count": 5,
      "outputs": []
    },
    {
      "cell_type": "markdown",
      "source": [
        "#Tasks, Part 1"
      ],
      "metadata": {
        "id": "HpZbXpIIv7HL"
      }
    },
    {
      "cell_type": "markdown",
      "source": [
        "1. Find the linear regression equation for mileage vs price."
      ],
      "metadata": {
        "id": "Krvo1PeMwAjg"
      }
    },
    {
      "cell_type": "code",
      "source": [
        "x=df[['Mileage']]\n",
        "y=df['Price']"
      ],
      "metadata": {
        "id": "eeAhwz2dv9Dw"
      },
      "execution_count": 6,
      "outputs": []
    },
    {
      "cell_type": "code",
      "source": [
        "#split  train and test data\n",
        "\n",
        "from sklearn.model_selection import train_test_split\n",
        "x_train,x_test,y_train,y_test = train_test_split(x,y,test_size=0.3,random_state=0)"
      ],
      "metadata": {
        "id": "Ro9N3mK9VIcp"
      },
      "execution_count": 7,
      "outputs": []
    },
    {
      "cell_type": "code",
      "source": [
        "#Linear regression model\n",
        "\n",
        "model = LinearRegression().fit(x_train, y_train)\n",
        "\n",
        "#model parameters\n",
        "\n",
        "print(\"The equation of linear regresssion is : \\t\",*model.coef_,' x +',model.intercept_)"
      ],
      "metadata": {
        "id": "YXk_7PrrWiEs"
      },
      "execution_count": null,
      "outputs": []
    },
    {
      "cell_type": "markdown",
      "source": [
        "2. Chart the original data and the equation on the chart."
      ],
      "metadata": {
        "id": "jcpoeaOhxI4S"
      }
    },
    {
      "cell_type": "code",
      "source": [
        "#plot \n",
        "\n",
        "plt.plot(x,y,'o')\n",
        "plt.plot(x,model.predict(x))"
      ],
      "metadata": {
        "id": "wNmlnaYqxNyY"
      },
      "execution_count": null,
      "outputs": []
    },
    {
      "cell_type": "markdown",
      "source": [
        "3. Find the equation's  R2  score (use the .score method) to determine whether the equation is a good fit for this data. (0.8 and greater is considered a strong correlation.)"
      ],
      "metadata": {
        "id": "6NcunNM3y55Q"
      }
    },
    {
      "cell_type": "code",
      "source": [
        "#model score\n",
        "\n",
        "score=model.score(x,y)\n",
        "print(f'The model score is : \\t {score}')\n",
        "if score<0.8:\n",
        "  print('Equation is not a good fit.')\n",
        "else:\n",
        "  print('Equation is a good fit.')"
      ],
      "metadata": {
        "id": "fE64OSYNxQmp"
      },
      "execution_count": null,
      "outputs": []
    },
    {
      "cell_type": "markdown",
      "source": [
        "#Tasks, Part 2"
      ],
      "metadata": {
        "id": "L_wiVS3i0Bey"
      }
    },
    {
      "cell_type": "markdown",
      "source": [
        "1. Use mileage, cylinders, liters, doors, cruise, sound, and leather to find the linear regression equation."
      ],
      "metadata": {
        "id": "wkBYSllX0KGV"
      }
    },
    {
      "cell_type": "code",
      "source": [
        "df.columns"
      ],
      "metadata": {
        "id": "P0VTdaZt1XVn"
      },
      "execution_count": null,
      "outputs": []
    },
    {
      "cell_type": "code",
      "source": [
        "x=df[['Mileage','Cylinder','Liter','Doors','Cruise','Sound','Leather']]\n",
        "y=df['Price']"
      ],
      "metadata": {
        "id": "G4x5E9Cp0XOD"
      },
      "execution_count": 12,
      "outputs": []
    },
    {
      "cell_type": "code",
      "source": [
        "#split  train and test data\n",
        "\n",
        "from sklearn.model_selection import train_test_split\n",
        "x_train,x_test,y_train,y_test = train_test_split(x,y,test_size=0.3,random_state=0)"
      ],
      "metadata": {
        "id": "LAZd8vaM0XOD"
      },
      "execution_count": 13,
      "outputs": []
    },
    {
      "cell_type": "code",
      "source": [
        "#Regression Equation\n",
        "\n",
        "from sklearn.model_selection import train_test_split\n",
        "names=['Mileage','Cylinder','Liter','Doors','Cruise','Sound','Leather']\n",
        "for i in range(len(names)):\n",
        "  x=df[[names[i]]]\n",
        "  y=df[\"Price\"]\n",
        "  x_train,x_test,y_train,y_test = train_test_split(x,y,test_size=0.2,random_state=2)\n",
        "  model = LinearRegression().fit(x_train, y_train)\n",
        "  print(f\"The equation of linear regresssion for {names[i]} is : \\t\",*model.coef_,' x +',model.intercept_)"
      ],
      "metadata": {
        "id": "u9UXGmtH0XOE"
      },
      "execution_count": null,
      "outputs": []
    },
    {
      "cell_type": "markdown",
      "source": [
        "2. \n",
        "Find the equation's  R2  score (use the .score method) to determine whether the equation is a good fit for this data. (0.8 and greater is considered a strong correlation.)"
      ],
      "metadata": {
        "id": "cpYy8hPv0M7g"
      }
    },
    {
      "cell_type": "code",
      "source": [
        "#model score\n",
        "\n",
        "from sklearn.model_selection import train_test_split\n",
        "names=names=['Mileage','Cylinder','Liter','Doors','Cruise','Sound','Leather']\n",
        "for i in range(len(names)):\n",
        "  x=df[[names[i]]]\n",
        "  y=df[\"Price\"]\n",
        "  x_train,x_test,y_train,y_test = train_test_split(x,y,test_size=0.2,random_state=2)\n",
        "  model = LinearRegression().fit(x_train, y_train)\n",
        "  score=model.score(x,y)*100\n",
        "  print(f\"The model score for {names[i]} is : \\t\",score)"
      ],
      "metadata": {
        "id": "nPiQ2aIb0Thu"
      },
      "execution_count": null,
      "outputs": []
    },
    {
      "cell_type": "markdown",
      "source": [
        "3. Find the combination of the factors that is the best predictor for price."
      ],
      "metadata": {
        "id": "rKd5_goV0Poo"
      }
    },
    {
      "cell_type": "code",
      "source": [
        "x=df[['Mileage','Cylinder','Liter','Doors','Cruise','Sound','Leather']]\n",
        "y=df['Price']\n",
        "x_train,x_test,y_train,y_test = train_test_split(x,y,test_size=0.2,random_state=2)\n",
        "model = LinearRegression().fit(x_train, y_train)\n",
        "score=model.score(x,y)*100\n",
        "score"
      ],
      "metadata": {
        "id": "LEnw_unE0SzU"
      },
      "execution_count": null,
      "outputs": []
    },
    {
      "cell_type": "markdown",
      "source": [
        "- Best combination is using all the seven features."
      ],
      "metadata": {
        "id": "XZmr3_aE7v0J"
      }
    },
    {
      "cell_type": "markdown",
      "source": [
        "- Indivisually the best features are cylinder, liter and cruise."
      ],
      "metadata": {
        "id": "2Hwggl3673Li"
      }
    },
    {
      "cell_type": "markdown",
      "source": [
        "#Tasks, Hard Mode\n"
      ],
      "metadata": {
        "id": "9fsh0Av28Gpw"
      }
    },
    {
      "cell_type": "markdown",
      "source": [
        "1. Research dummy variables in scikit-learn to see how to use the make, model, and body type."
      ],
      "metadata": {
        "id": "-afBjmdl8OWs"
      }
    },
    {
      "cell_type": "code",
      "source": [
        "dummy = pd.get_dummies(df[['Make','Model','Type']])"
      ],
      "metadata": {
        "id": "Q4XeT-QI8SX_"
      },
      "execution_count": 17,
      "outputs": []
    },
    {
      "cell_type": "code",
      "source": [
        "dummy.columns"
      ],
      "metadata": {
        "id": "1yD9zgSf8gyX"
      },
      "execution_count": null,
      "outputs": []
    },
    {
      "cell_type": "code",
      "source": [
        "dummy"
      ],
      "metadata": {
        "id": "r5HZ4l_B8nGr"
      },
      "execution_count": null,
      "outputs": []
    },
    {
      "cell_type": "code",
      "source": [
        "df1=pd.concat([df['Price'],dummy],axis=1)"
      ],
      "metadata": {
        "id": "HALStCOQJfdt"
      },
      "execution_count": 25,
      "outputs": []
    },
    {
      "cell_type": "code",
      "source": [
        "df1=df1.merge(dummy,left_index=True,right_index=True)\n",
        "df1.head()"
      ],
      "metadata": {
        "id": "GrUbXEpKLjYQ"
      },
      "execution_count": null,
      "outputs": []
    },
    {
      "cell_type": "code",
      "source": [
        "#model score using Dummy variables \n",
        "\n",
        "x=df1.drop(columns='Price')\n",
        "y=df['Price']\n",
        "x_train,x_test,y_train,y_test = train_test_split(x,y,test_size=0.2,random_state=2)\n",
        "model = LinearRegression().fit(x_train, y_train)\n",
        "score=model.score(x,y)*100\n",
        "score"
      ],
      "metadata": {
        "id": "7ejAXD3lSqOu",
        "outputId": "e74a1cce-84e3-451a-e60d-455ffbce08ff",
        "colab": {
          "base_uri": "https://localhost:8080/"
        }
      },
      "execution_count": 30,
      "outputs": [
        {
          "output_type": "execute_result",
          "data": {
            "text/plain": [
              "95.77481436708266"
            ]
          },
          "metadata": {},
          "execution_count": 30
        }
      ]
    },
    {
      "cell_type": "markdown",
      "source": [
        "2. Find the best combination of factors to predict price."
      ],
      "metadata": {
        "id": "TdklPcoT8RDx"
      }
    },
    {
      "cell_type": "code",
      "source": [
        "from sklearn.model_selection import train_test_split\n",
        "x=df1.drop(columns='Price').columns\n",
        "for i in range(len(x)):\n",
        "  x1=df1[[x[i]]]\n",
        "  y1=df1[\"Price\"]\n",
        "  x_train,x_test,y_train,y_test = train_test_split(x1,y1,test_size=0.2,random_state=2)\n",
        "  model = LinearRegression().fit(x_train, y_train)\n",
        "  score=model.score(x1,y1)*100\n",
        "  print(f\"The model score for {x[i]} is : \\t\",score)"
      ],
      "metadata": {
        "id": "FJV83wYe8S98"
      },
      "execution_count": null,
      "outputs": []
    },
    {
      "cell_type": "markdown",
      "source": [
        "- Best factors to predict the price are as : "
      ],
      "metadata": {
        "id": "-JIOrgCAU8Wx"
      }
    },
    {
      "cell_type": "markdown",
      "source": [
        "Make_Cadillac_x, Make_Cadillac_y, Type_Convertible_x, Type_Convertible_y, Model_XLR-V8_y, "
      ],
      "metadata": {
        "id": "rw9myCC2VnBW"
      }
    }
  ],
  "metadata": {
    "kernelspec": {
      "display_name": "Python 3",
      "language": "python",
      "name": "python3"
    },
    "language_info": {
      "codemirror_mode": {
        "name": "ipython",
        "version": 3
      },
      "file_extension": ".py",
      "mimetype": "text/x-python",
      "name": "python",
      "nbconvert_exporter": "python",
      "pygments_lexer": "ipython3",
      "version": "3.8.3"
    },
    "colab": {
      "name": "Assignment8.ipynb",
      "provenance": [],
      "include_colab_link": true
    }
  },
  "nbformat": 4,
  "nbformat_minor": 0
}