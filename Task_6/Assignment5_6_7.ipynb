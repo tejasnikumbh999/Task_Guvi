{
  "cells": [
    {
      "cell_type": "markdown",
      "metadata": {
        "id": "view-in-github",
        "colab_type": "text"
      },
      "source": [
        "<a href=\"https://colab.research.google.com/github/tejasnikumbh999/Task_Guvi/blob/main/Task_6/Assignment5_6_7.ipynb\" target=\"_parent\"><img src=\"https://colab.research.google.com/assets/colab-badge.svg\" alt=\"Open In Colab\"/></a>"
      ]
    },
    {
      "cell_type": "code",
      "execution_count": 15,
      "metadata": {
        "id": "q3bAnRPAL7Nt"
      },
      "outputs": [],
      "source": [
        "import pandas as pd\n",
        "import numpy as np\n",
        "import seaborn as sns\n",
        "import matplotlib.pyplot as plt\n",
        "from sklearn.linear_model import LinearRegression"
      ]
    },
    {
      "cell_type": "markdown",
      "metadata": {
        "id": "cucgU6bPL7N3"
      },
      "source": [
        "# Assignment5\n"
      ]
    },
    {
      "cell_type": "markdown",
      "metadata": {
        "id": "0Z2ur1h3L7N7"
      },
      "source": [
        "## Ground Cricket Chirps\n",
        "\n",
        "In _The Song of Insects_ (1948) by George W. Pierce, Pierce mechanically measured the frequency (the number of wing vibrations per second) of chirps (or pulses of sound) made by a striped ground cricket, at various ground temperatures.  Since crickets are ectotherms (cold-blooded), the rate of their physiological processes and their overall metabolism are influenced by temperature.  Consequently, there is reason to believe that temperature would have a profound effect on aspects of their behavior, such as chirp frequency.\n",
        "\n",
        "In general, it was found that crickets did not sing at temperatures colder than 60º F. or warmer than 100º F."
      ]
    },
    {
      "cell_type": "code",
      "execution_count": 3,
      "metadata": {
        "id": "ipCnqkddL7N9"
      },
      "outputs": [],
      "source": [
        "ground_cricket_data = {\"Chirps/Second\": [20.0, 16.0, 19.8, 18.4, 17.1, 15.5, 14.7,\n",
        "                                         15.7, 15.4, 16.3, 15.0, 17.2, 16.0, 17.0,\n",
        "                                         14.4],\n",
        "                       \"Ground Temperature\": [88.6, 71.6, 93.3, 84.3, 80.6, 75.2, 69.7,\n",
        "                                              71.6, 69.4, 83.3, 79.6, 82.6, 80.6, 83.5,\n",
        "                                              76.3]}\n",
        "df = pd.DataFrame(ground_cricket_data)"
      ]
    },
    {
      "cell_type": "markdown",
      "metadata": {
        "id": "cdVY4NPzL7N_"
      },
      "source": [
        "### Tasks\n",
        "\n",
        "1. Find the linear regression equation for this data.\n",
        "2. Chart the original data and the equation on the chart.\n",
        "3. Find the equation's $R^2$ score (use the `.score` method) to determine whether the\n",
        "equation is a good fit for this data. (0.8 and greater is considered a strong correlation.)\n",
        "4. Extrapolate data:  If the ground temperature reached 95, then at what approximate rate would you expect the crickets to be chirping?\n",
        "5. Interpolate data:  With a listening device, you discovered that on a particular morning the crickets were chirping at a rate of 18 chirps per second.  What was the approximate ground temperature that morning? "
      ]
    },
    {
      "cell_type": "code",
      "source": [
        "#select features and target\n",
        "\n",
        "x=df[['Chirps/Second']]\n",
        "y=df['Ground Temperature']"
      ],
      "metadata": {
        "id": "kbvlXSeMMPx-"
      },
      "execution_count": 18,
      "outputs": []
    },
    {
      "cell_type": "code",
      "source": [
        "#split  train and test data\n",
        "\n",
        "from sklearn.model_selection import train_test_split\n",
        "x_train,x_test,y_train,y_test = train_test_split(x,y,test_size=0.2,random_state=0)"
      ],
      "metadata": {
        "id": "6OQfYE99RVF7"
      },
      "execution_count": 19,
      "outputs": []
    },
    {
      "cell_type": "code",
      "source": [
        "#Linear regression model\n",
        "\n",
        "model = LinearRegression().fit(x_train, y_train)"
      ],
      "metadata": {
        "id": "czLHAJv6SBJ8"
      },
      "execution_count": 20,
      "outputs": []
    },
    {
      "cell_type": "markdown",
      "source": [
        "1. Find the linear regression equation for this data."
      ],
      "metadata": {
        "id": "hqiicegiThBV"
      }
    },
    {
      "cell_type": "code",
      "source": [
        "#model parameters\n",
        "\n",
        "print(\"The equation of linear regresssion is : \\t\",*model.coef_,' x +',model.intercept_)"
      ],
      "metadata": {
        "colab": {
          "base_uri": "https://localhost:8080/"
        },
        "id": "GmHbwy8eSmAQ",
        "outputId": "3b198497-2ed8-4cd4-ad46-706cb764ae70"
      },
      "execution_count": 27,
      "outputs": [
        {
          "output_type": "stream",
          "name": "stdout",
          "text": [
            "The equation of linear regresssion is : \t 2.81020290964778  x + 34.22624425727411\n"
          ]
        }
      ]
    },
    {
      "cell_type": "markdown",
      "source": [
        "2. Chart the original data and the equation on the chart."
      ],
      "metadata": {
        "id": "Do90GDthTmo7"
      }
    },
    {
      "cell_type": "code",
      "source": [
        "#plot \n",
        "\n",
        "plt.plot(x,y,'o')\n",
        "plt.plot(x,model.predict(x))"
      ],
      "metadata": {
        "colab": {
          "base_uri": "https://localhost:8080/",
          "height": 284
        },
        "id": "p12JvuTeTjY7",
        "outputId": "2a2b8d91-e5e1-4c81-d261-3d265e0f7ff2"
      },
      "execution_count": 28,
      "outputs": [
        {
          "output_type": "execute_result",
          "data": {
            "text/plain": [
              "[<matplotlib.lines.Line2D at 0x7fd020d3a3d0>]"
            ]
          },
          "metadata": {},
          "execution_count": 28
        },
        {
          "output_type": "display_data",
          "data": {
            "text/plain": [
              "<Figure size 432x288 with 1 Axes>"
            ],
            "image/png": "[encoded data removed]"
          },
          "metadata": {
            "needs_background": "light"
          }
        }
      ]
    },
    {
      "cell_type": "markdown",
      "source": [
        "3. Find the equation's  R2  score (use the .score method) to determine whether the equation is a good fit for this data. (0.8 and greater is considered a strong correlation.)"
      ],
      "metadata": {
        "id": "iAOd5OIJT08t"
      }
    },
    {
      "cell_type": "code",
      "source": [
        "#model score\n",
        "\n",
        "score=model.score(x,y)\n",
        "print(score)\n",
        "if score<0.8:\n",
        "  print('Equation is not a good fit.')\n",
        "else:\n",
        "  print('Equation is a good fit.')"
      ],
      "metadata": {
        "colab": {
          "base_uri": "https://localhost:8080/"
        },
        "id": "CTgEq2YfT0dw",
        "outputId": "ba1739b5-8135-46b2-e9b6-dec2139a1e72"
      },
      "execution_count": 32,
      "outputs": [
        {
          "output_type": "stream",
          "name": "stdout",
          "text": [
            "0.6260754104265285\n",
            "Equation is not a good fit.\n"
          ]
        }
      ]
    },
    {
      "cell_type": "markdown",
      "source": [
        "4. Extrapolate data: If the ground temperature reached 95, then at what approximate rate would you expect the crickets to be chirping?"
      ],
      "metadata": {
        "id": "onQR2X7nXDnH"
      }
    },
    {
      "cell_type": "code",
      "source": [
        "chirping = (95-model.intercept_)/model.coef_\n",
        "print(\"Approximate rate would expect the crickets to be chirping is : \\t\",*chirping)"
      ],
      "metadata": {
        "colab": {
          "base_uri": "https://localhost:8080/"
        },
        "id": "lbQF2DTcVgQl",
        "outputId": "faf1e945-db4f-47e9-ee96-861750f475b2"
      },
      "execution_count": 42,
      "outputs": [
        {
          "output_type": "stream",
          "name": "stdout",
          "text": [
            "Approximate rate would expect the crickets to be chirping is : \t 21.62610946493648\n"
          ]
        }
      ]
    },
    {
      "cell_type": "markdown",
      "source": [
        "5. Interpolate data: With a listening device, you discovered that on a particular morning the crickets were chirping at a rate of 18 chirps per second. What was the approximate ground temperature that morning?"
      ],
      "metadata": {
        "id": "ryzKdvFmXI2I"
      }
    },
    {
      "cell_type": "code",
      "source": [
        "print('The crickets were chirping at a rate of 18 chirps per second, then the approximate ground temperature that morning was : \\t',*model.predict([[18]]))"
      ],
      "metadata": {
        "colab": {
          "base_uri": "https://localhost:8080/"
        },
        "id": "sHssdesYXGLK",
        "outputId": "fe65a735-f60c-4729-ccb3-cd4b0e038279"
      },
      "execution_count": 44,
      "outputs": [
        {
          "output_type": "stream",
          "name": "stdout",
          "text": [
            "The crickets were chirping at a rate of 18 chirps per second, then the approximate ground temperature that morning was : \t 84.80989663093416\n"
          ]
        },
        {
          "output_type": "stream",
          "name": "stderr",
          "text": [
            "/usr/local/lib/python3.7/dist-packages/sklearn/base.py:451: UserWarning: X does not have valid feature names, but LinearRegression was fitted with feature names\n",
            "  \"X does not have valid feature names, but\"\n"
          ]
        }
      ]
    },
    {
      "cell_type": "markdown",
      "metadata": {
        "id": "tVPQ1OXXL7OA"
      },
      "source": [
        "# Assignment6"
      ]
    },
    {
      "cell_type": "markdown",
      "metadata": {
        "id": "uh12-I7JL7OC"
      },
      "source": [
        "## Brain vs. Body Weight\n",
        "\n",
        "In the file `brain_body.txt`, the average brain and body weight for a number of mammal species are recorded. Load this data into a Pandas data frame.\n",
        "\n",
        "### Tasks\n",
        "\n",
        "1. Find the linear regression equation for this data for brain weight to body weight.\n",
        "2. Chart the original data and the equation on the chart.\n",
        "3. Find the equation's $R^2$ score (use the `.score` method) to determine whether the\n",
        "equation is a good fit for this data. (0.8 and greater is considered a strong correlation.)"
      ]
    },
    {
      "cell_type": "code",
      "execution_count": 46,
      "metadata": {
        "id": "_MD4L1WnL7OF"
      },
      "outputs": [],
      "source": [
        "df = pd.read_fwf(\"https://raw.githubusercontent.com/tejasnikumbh999/Training-datasets/main/brain_body.txt\")"
      ]
    },
    {
      "cell_type": "code",
      "source": [
        "#select features and target\n",
        "\n",
        "x=df[['Brain']]\n",
        "y=df['Body']"
      ],
      "metadata": {
        "id": "WbedxF6iaUeS"
      },
      "execution_count": 49,
      "outputs": []
    },
    {
      "cell_type": "code",
      "source": [
        "#split  train and test data\n",
        "\n",
        "from sklearn.model_selection import train_test_split\n",
        "x_train,x_test,y_train,y_test = train_test_split(x,y,test_size=0.2,random_state=10)"
      ],
      "metadata": {
        "id": "qYdUtPr7aUet"
      },
      "execution_count": 52,
      "outputs": []
    },
    {
      "cell_type": "code",
      "source": [
        "#Linear regression model\n",
        "\n",
        "model = LinearRegression().fit(x_train, y_train)"
      ],
      "metadata": {
        "id": "dxnsTsmOaUeu"
      },
      "execution_count": 53,
      "outputs": []
    },
    {
      "cell_type": "markdown",
      "source": [
        "1. Find the linear regression equation for this data."
      ],
      "metadata": {
        "id": "igrc77D5aUew"
      }
    },
    {
      "cell_type": "code",
      "source": [
        "#model parameters\n",
        "\n",
        "print(\"The equation of linear regresssion is : \\t\",*model.coef_,' x +',model.intercept_)"
      ],
      "metadata": {
        "colab": {
          "base_uri": "https://localhost:8080/"
        },
        "outputId": "87c982c2-773f-4858-a53b-ebf07580deca",
        "id": "BF4-uQhXaUex"
      },
      "execution_count": 54,
      "outputs": [
        {
          "output_type": "stream",
          "name": "stdout",
          "text": [
            "The equation of linear regresssion is : \t 0.9684998395138261  x + 74.62106161028203\n"
          ]
        }
      ]
    },
    {
      "cell_type": "markdown",
      "source": [
        "2. Chart the original data and the equation on the chart."
      ],
      "metadata": {
        "id": "B8Vkfwmbejpv"
      }
    },
    {
      "cell_type": "code",
      "source": [
        "#plot \n",
        "\n",
        "plt.plot(x,y,'o')\n",
        "plt.plot(x,model.predict(x))"
      ],
      "metadata": {
        "colab": {
          "base_uri": "https://localhost:8080/",
          "height": 284
        },
        "outputId": "98ab4e2c-3d6c-41d9-c4ff-9baa1d1a84c9",
        "id": "EWEO_811ejp2"
      },
      "execution_count": 55,
      "outputs": [
        {
          "output_type": "execute_result",
          "data": {
            "text/plain": [
              "[<matplotlib.lines.Line2D at 0x7fd0207ff290>]"
            ]
          },
          "metadata": {},
          "execution_count": 55
        },
        {
          "output_type": "display_data",
          "data": {
            "text/plain": [
              "<Figure size 432x288 with 1 Axes>"
            ],
            "image/png": "[encoded data removed]"
          },
          "metadata": {
            "needs_background": "light"
          }
        }
      ]
    },
    {
      "cell_type": "markdown",
      "source": [
        "3. Find the equation's  R2  score (use the .score method) to determine whether the equation is a good fit for this data. (0.8 and greater is considered a strong correlation.)"
      ],
      "metadata": {
        "id": "F78luQckejp3"
      }
    },
    {
      "cell_type": "code",
      "source": [
        "#model score\n",
        "\n",
        "score=model.score(x,y)\n",
        "print(f'The model score is : \\t {score}')\n",
        "if score<0.8:\n",
        "  print('Equation is not a good fit.')\n",
        "else:\n",
        "  print('Equation is a good fit.')"
      ],
      "metadata": {
        "colab": {
          "base_uri": "https://localhost:8080/"
        },
        "outputId": "2db01609-6f0b-4d9b-fdb8-1ff62c330727",
        "id": "bqV5bsH_ejp3"
      },
      "execution_count": 58,
      "outputs": [
        {
          "output_type": "stream",
          "name": "stdout",
          "text": [
            "The model score is : \t 0.8723582356703198\n",
            "Equation is a good fit.\n"
          ]
        }
      ]
    },
    {
      "cell_type": "markdown",
      "metadata": {
        "id": "NHUoaVuDL7OG"
      },
      "source": [
        "# Assignment7"
      ]
    },
    {
      "cell_type": "markdown",
      "metadata": {
        "id": "Tpowk1oIL7OH"
      },
      "source": [
        "## Salary Discrimination\n",
        "\n",
        "The file `salary.txt` contains data for 52 tenure-track professors at a small Midwestern college. This data was used in legal proceedings in the 1980s about discrimination against women in salary.\n",
        "\n",
        "The data in the file, by column:\n",
        "\n",
        "1. Sex. 1 for female, 0 for male.\n",
        "2. Rank. 1 for assistant professor, 2 for associate professor, 3 for full professor.\n",
        "3. Year. Number of years in current rank.\n",
        "4. Degree. Highest degree. 1 for doctorate, 0 for master's.\n",
        "5. YSdeg. Years since highest degree was earned.\n",
        "6. Salary. Salary/year in dollars.\n",
        "\n",
        "### Tasks\n",
        "\n",
        "1. Find the linear regression equation for this data using columns 1-5 to column 6.\n",
        "2. Find the selection of columns with the best $R^2$ score.\n",
        "3. Report whether sex is a factor in salary."
      ]
    },
    {
      "cell_type": "code",
      "execution_count": 59,
      "metadata": {
        "id": "kYU-mc25L7OJ"
      },
      "outputs": [],
      "source": [
        "df = pd.read_fwf(\"https://raw.githubusercontent.com/tejasnikumbh999/Training-datasets/main/salary.txt\", header=None, \n",
        "                 names=[\"Sex\", \"Rank\", \"Year\", \"Degree\", \"YSdeg\", \"Salary\"])"
      ]
    },
    {
      "cell_type": "code",
      "source": [
        "#select features and target\n",
        "scores={}\n",
        "from sklearn.model_selection import train_test_split\n",
        "names=[\"Sex\", \"Rank\", \"Year\", \"Degree\", \"YSdeg\"]\n",
        "for i in range(len(names)):\n",
        "  x=df[[names[i]]]\n",
        "  y=df[\"Salary\"]\n",
        "  x_train,x_test,y_train,y_test = train_test_split(x,y,test_size=0.2,random_state=2)\n",
        "  model = LinearRegression().fit(x_train, y_train)\n",
        "  score=model.score(x,y)\n",
        "  scores[names[i]] = score*100\n",
        "  print(f\"The equation of linear regresssion for {names[i]} is : \\t\",*model.coef_,' x +',model.intercept_)\n",
        "  \n",
        "print(f'\\nModel scores for different features are : {scores}')"
      ],
      "metadata": {
        "colab": {
          "base_uri": "https://localhost:8080/"
        },
        "id": "PnxhjQLMfCgC",
        "outputId": "b197e037-5638-4682-ab87-e244d70da3b9"
      },
      "execution_count": 108,
      "outputs": [
        {
          "output_type": "stream",
          "name": "stdout",
          "text": [
            "The equation of linear regresssion for Sex is : \t -4071.7709677419352  x + 24251.870967741932\n",
            "The equation of linear regresssion for Rank is : \t 5404.2762237762245  x + 12186.580419580416\n",
            "The equation of linear regresssion for Year is : \t 660.206056195139  x + 18605.108530722067\n",
            "The equation of linear regresssion for Degree is : \t -978.7076923076913  x + 23879.399999999998\n",
            "The equation of linear regresssion for YSdeg is : \t 306.62049651831677  x + 18435.09218891916\n",
            "\n",
            "Model scores for different features are : {'Sex': 4.882485825656834, 'Rank': 73.58493859793565, 'Year': 48.163583156067226, 'Degree': -0.4305599418604755, 'YSdeg': 42.91905013266373}\n"
          ]
        }
      ]
    },
    {
      "cell_type": "markdown",
      "source": [
        "- The column with the best R2 score is : Rank."
      ],
      "metadata": {
        "id": "bvKeYetZqPtf"
      }
    },
    {
      "cell_type": "markdown",
      "source": [
        "- Since the model score with the Sex as feature is very low (i.e. 4.88), it can't be a significant factor in salary."
      ],
      "metadata": {
        "id": "27HnYgHxqn0-"
      }
    }
  ],
  "metadata": {
    "kernelspec": {
      "display_name": "Python 3",
      "language": "python",
      "name": "python3"
    },
    "language_info": {
      "codemirror_mode": {
        "name": "ipython",
        "version": 3
      },
      "file_extension": ".py",
      "mimetype": "text/x-python",
      "name": "python",
      "nbconvert_exporter": "python",
      "pygments_lexer": "ipython3",
      "version": "3.8.3"
    },
    "colab": {
      "name": "Assignment5_6_7.ipynb",
      "provenance": [],
      "include_colab_link": true
    }
  },
  "nbformat": 4,
  "nbformat_minor": 0
}