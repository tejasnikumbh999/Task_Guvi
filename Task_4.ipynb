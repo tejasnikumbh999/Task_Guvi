{
  "cells": [
    {
      "cell_type": "markdown",
      "metadata": {
        "id": "view-in-github",
        "colab_type": "text"
      },
      "source": [
        "<a href=\"https://colab.research.google.com/github/tejasnikumbh999/Task_Guvi/blob/main/Task_4.ipynb\" target=\"_parent\"><img src=\"https://colab.research.google.com/assets/colab-badge.svg\" alt=\"Open In Colab\"/></a>"
      ]
    },
    {
      "cell_type": "markdown",
      "metadata": {
        "id": "7_IQ8MPGiw-8"
      },
      "source": [
        "###### Assessment"
      ]
    },
    {
      "cell_type": "markdown",
      "metadata": {
        "id": "qhkyTPpDiw_A"
      },
      "source": [
        "###### I am going to provide two .csv files , you are supposed to work on them and have to provide solutions to the following problems"
      ]
    },
    {
      "cell_type": "markdown",
      "metadata": {
        "id": "lErI2fBriw_A"
      },
      "source": [
        "###### import necessary libraries"
      ]
    },
    {
      "cell_type": "code",
      "execution_count": 14,
      "metadata": {
        "id": "lMXDX25Hiw_B"
      },
      "outputs": [],
      "source": [
        "import pandas as pd\n",
        "import numpy as np\n",
        "import matplotlib.pyplot as plt\n",
        "import plotly.express as px"
      ]
    },
    {
      "cell_type": "markdown",
      "metadata": {
        "id": "N3h78GrAiw_C"
      },
      "source": [
        "###### merge those two csv files (after getting as dataframes, get them as a single dataframe)"
      ]
    },
    {
      "cell_type": "code",
      "execution_count": null,
      "metadata": {
        "id": "PFG1aRl_iw_C"
      },
      "outputs": [],
      "source": [
        "data1=pd.read_csv('https://raw.githubusercontent.com/tejasnikumbh999/Task_Guvi/main/college_1.csv')\n",
        "data2=pd.read_csv('https://raw.githubusercontent.com/tejasnikumbh999/Task_Guvi/main/college_2.csv')\n",
        "data=data1.append(data2)\n",
        "data"
      ]
    },
    {
      "cell_type": "code",
      "source": [
        "data.shape"
      ],
      "metadata": {
        "id": "SQNlhFggurOL"
      },
      "execution_count": null,
      "outputs": []
    },
    {
      "cell_type": "code",
      "source": [
        "data.isnull().sum()"
      ],
      "metadata": {
        "id": "IpFTXZgFlile"
      },
      "execution_count": null,
      "outputs": []
    },
    {
      "cell_type": "code",
      "source": [
        "data.fillna(0,inplace=True)"
      ],
      "metadata": {
        "id": "rkDJXrq-lo_a"
      },
      "execution_count": 18,
      "outputs": []
    },
    {
      "cell_type": "markdown",
      "metadata": {
        "id": "BkNJteHviw_D"
      },
      "source": [
        "###### Take each csv file , split that csv file into multiple categories (example csv files are added in the repo) \n"
      ]
    },
    {
      "cell_type": "markdown",
      "metadata": {
        "id": "nFlvpwNHiw_D"
      },
      "source": [
        "###### consider if the codekata score exceeds 15000 points(present week) then make a csv on those observations as Exceeded expectations.csv\n"
      ]
    },
    {
      "cell_type": "markdown",
      "metadata": {
        "id": "1QjNM1SQiw_E"
      },
      "source": [
        "###### if  10000<codekata score<15000   (Reached_expectations.csv)\n",
        "\n"
      ]
    },
    {
      "cell_type": "markdown",
      "metadata": {
        "id": "6U20kjNoiw_F"
      },
      "source": [
        "###### if  7000<codekata score<10000   (Needs_Improvement.csv)\n"
      ]
    },
    {
      "cell_type": "markdown",
      "metadata": {
        "id": "_1XiCBNViw_F"
      },
      "source": [
        "###### if  codekate score < 7000        (Unsatisfactory.csv)"
      ]
    },
    {
      "cell_type": "code",
      "execution_count": 19,
      "metadata": {
        "id": "dcNsuQyviw_G"
      },
      "outputs": [],
      "source": [
        "exceed=data.loc[data['CodeKata Score']>15000]\n",
        "exceed.to_csv('Exceeded expectations.csv')"
      ]
    },
    {
      "cell_type": "code",
      "execution_count": 20,
      "metadata": {
        "id": "t4-mMBckiw_G"
      },
      "outputs": [],
      "source": [
        "reached=data.loc[(data['CodeKata Score']>15000) & (data['CodeKata Score']<10000)]\n",
        "reached.to_csv('Reached_expectations.csv')"
      ]
    },
    {
      "cell_type": "code",
      "source": [
        "improvement=data.loc[(data['CodeKata Score']>10000) & (data['CodeKata Score']<7000)]\n",
        "improvement.to_csv('Needs_Improvement.csv')"
      ],
      "metadata": {
        "id": "PA3qNmbgn2IC"
      },
      "execution_count": 21,
      "outputs": []
    },
    {
      "cell_type": "code",
      "source": [
        "unsatisfactory=data.loc[data['CodeKata Score']<7000]\n",
        "unsatisfactory.to_csv('Unsatisfactory.csv')"
      ],
      "metadata": {
        "id": "abQ3Mtn-oFF2"
      },
      "execution_count": 22,
      "outputs": []
    },
    {
      "cell_type": "markdown",
      "metadata": {
        "id": "ofguzX10iw_G"
      },
      "source": [
        "###### Average of previous week geekions vs this week geekions (i.e Previous Geekions vs CodeKata Score)"
      ]
    },
    {
      "cell_type": "code",
      "execution_count": null,
      "metadata": {
        "id": "iIk_e313iw_H"
      },
      "outputs": [],
      "source": [
        "#calculate average values\n",
        "\n",
        "print('Average of previous week geekions :',data['Previous Geekions'].mean())\n",
        "print('Average of this week geekions  :',data['CodeKata Score'].mean())"
      ]
    },
    {
      "cell_type": "code",
      "source": [
        "#bar plot\n",
        "\n",
        "df=pd.DataFrame({'Columns': ['Previous Geekions','Codekata Score'],'Values':[data['Previous Geekions'].mean(),data['CodeKata Score'].mean()]})\n",
        "px.bar(df,x='Columns',y='Values',color='Columns',title='Average of previous week geekions vs this week geekions ',text_auto=True)"
      ],
      "metadata": {
        "id": "dRY2c_E5-uTo"
      },
      "execution_count": null,
      "outputs": []
    },
    {
      "cell_type": "markdown",
      "metadata": {
        "id": "umvLKcMiiw_H"
      },
      "source": [
        "###### No of students participated "
      ]
    },
    {
      "cell_type": "code",
      "execution_count": null,
      "metadata": {
        "id": "OBVZrO7piw_H"
      },
      "outputs": [],
      "source": [
        "print('No.of Students Participated = ',data['Name'].count())"
      ]
    },
    {
      "cell_type": "markdown",
      "metadata": {
        "id": "XMCVEtsDiw_H"
      },
      "source": [
        "###### #Average completion of python course or my_sql or python english or computational thinking"
      ]
    },
    {
      "cell_type": "code",
      "execution_count": null,
      "metadata": {
        "id": "wmQYVBt0iw_H"
      },
      "outputs": [],
      "source": [
        "Completion=data.loc[(data['python']==100.0) | (data['mysql']==100.0) | (data['python_en']==100.0) | (data['computational_thinking']==100.0)]\n",
        "print('Average completion of python course or my_sql or python english or computational thinking : ',((len(Completion.index)/len(data.index))*100),'%')\n"
      ]
    },
    {
      "cell_type": "markdown",
      "metadata": {
        "id": "TriK_8gciw_I"
      },
      "source": [
        "###### rising star of the week (top 3 candidate who performed well in that particular week)"
      ]
    },
    {
      "cell_type": "code",
      "execution_count": null,
      "metadata": {
        "id": "RCBwbuWbiw_I"
      },
      "outputs": [],
      "source": [
        "df=data[['Name','Rising']]\n",
        "df.nlargest(3,\"Rising\")"
      ]
    },
    {
      "cell_type": "markdown",
      "metadata": {
        "id": "U3Vz6lSLiw_I"
      },
      "source": [
        "###### Shining stars of the week (top 3 candidates who has highest geekions)"
      ]
    },
    {
      "cell_type": "code",
      "execution_count": null,
      "metadata": {
        "id": "c6mu3l5oiw_I"
      },
      "outputs": [],
      "source": [
        "df1=data[['Name','CodeKata Score']]\n",
        "df1.nlargest(3,\"CodeKata Score\")"
      ]
    },
    {
      "cell_type": "markdown",
      "metadata": {
        "id": "Q_e84CpDiw_J"
      },
      "source": [
        "###### Department wise codekata performence (pie chart)"
      ]
    },
    {
      "cell_type": "code",
      "source": [
        "plot_pie=px.pie(data,names='Department',values='CodeKata Score',title='Department wise codekata performence')\n",
        "plot_pie.update_traces(textinfo='percent+label',textposition='auto')"
      ],
      "metadata": {
        "id": "LITOxD2myNDf"
      },
      "execution_count": null,
      "outputs": []
    },
    {
      "cell_type": "markdown",
      "metadata": {
        "id": "Az-qKSPPiw_J"
      },
      "source": [
        "###### Department wise toppers (horizantal bar graph or any visual representations of your choice)"
      ]
    },
    {
      "cell_type": "code",
      "source": [
        "data['Department'].unique()"
      ],
      "metadata": {
        "id": "AOG4XwUm390I"
      },
      "execution_count": null,
      "outputs": []
    },
    {
      "cell_type": "code",
      "execution_count": null,
      "metadata": {
        "id": "tOhtwT9Giw_K"
      },
      "outputs": [],
      "source": [
        "df1=data[['Name','CodeKata Score']].where(data['Department']=='Computer Science and Engineering')\n",
        "comp=df1.nlargest(5,\"CodeKata Score\")\n",
        "fig = px.bar(comp, x=\"Name\",y='CodeKata Score',title=\"Department wise toppers - Computer Science and Engineering\")\n",
        "fig.show()"
      ]
    },
    {
      "cell_type": "code",
      "execution_count": null,
      "metadata": {
        "id": "gOK4FdcOiw_K"
      },
      "outputs": [],
      "source": [
        "df1=data[['Name','CodeKata Score']].where(data['Department']=='Electronics and Communication Engineering')\n",
        "entc=df1.nlargest(5,\"CodeKata Score\")\n",
        "fig = px.bar(entc, x=\"Name\",y='CodeKata Score',title=\"Department wise toppers - Electronics and Communication Engineering\")\n",
        "fig.show()"
      ]
    },
    {
      "cell_type": "code",
      "source": [
        "df1=data[['Name','CodeKata Score']].where(data['Department']=='Electronics and Electrical Engineering')\n",
        "eee=df1.nlargest(5,\"CodeKata Score\")\n",
        "fig = px.bar(eee, x=\"Name\",y='CodeKata Score',title=\"Department wise toppers - Electronics and Electrical Engineering\")\n",
        "fig.show()"
      ],
      "metadata": {
        "id": "-NLiYW7I6lYt"
      },
      "execution_count": null,
      "outputs": []
    }
  ],
  "metadata": {
    "kernelspec": {
      "display_name": "Python 3",
      "language": "python",
      "name": "python3"
    },
    "language_info": {
      "codemirror_mode": {
        "name": "ipython",
        "version": 3
      },
      "file_extension": ".py",
      "mimetype": "text/x-python",
      "name": "python",
      "nbconvert_exporter": "python",
      "pygments_lexer": "ipython3",
      "version": "3.8.3"
    },
    "colab": {
      "name": "Task_4.ipynb",
      "provenance": [],
      "collapsed_sections": [],
      "include_colab_link": true
    }
  },
  "nbformat": 4,
  "nbformat_minor": 0
}